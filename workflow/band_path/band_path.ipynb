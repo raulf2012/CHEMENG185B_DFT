{
 "cells": [
  {
   "cell_type": "markdown",
   "metadata": {},
   "source": [
    "# Import Modules"
   ]
  },
  {
   "cell_type": "code",
   "execution_count": 1,
   "metadata": {},
   "outputs": [],
   "source": [
    "import os\n",
    "import sys\n",
    "\n",
    "from ase import io\n",
    "from ase.visualize import view"
   ]
  },
  {
   "cell_type": "code",
   "execution_count": 2,
   "metadata": {
    "lines_to_next_cell": 2
   },
   "outputs": [
    {
     "name": "stdout",
     "output_type": "stream",
     "text": [
      "os.environ[\"repo_185b\"]: /mnt/f/Dropbox/01_norskov/00_git_repos/CHEMENG185B_DFT\n"
     ]
    }
   ],
   "source": [
    "os.environ.keys()\n",
    "print(\n",
    "    'os.environ[\"repo_185b\"]:',\n",
    "    os.environ[\"repo_185b\"]\n",
    "    )"
   ]
  },
  {
   "cell_type": "markdown",
   "metadata": {},
   "source": [
    "assert False"
   ]
  },
  {
   "cell_type": "code",
   "execution_count": 3,
   "metadata": {},
   "outputs": [],
   "source": [
    "atoms_path = os.path.join(\n",
    "    os.environ[\"dropbox\"],\n",
    "    \"__temp__\",\n",
    "    \"VBiO4_mp-23506_primitive.cif\",\n",
    "    )"
   ]
  },
  {
   "cell_type": "code",
   "execution_count": 4,
   "metadata": {},
   "outputs": [],
   "source": [
    "# atoms = io.read(\"/home/raulf2012/GoogleDrive/GDrive_Stanford/TeamDrives/chemeng_185b/Computational_DFT/bulk_structures/VBiO4_mp-23506_primitive.cif\")\n",
    "\n",
    "# atoms = io.read(\"/mnt/c/Users/raul_desktop/Desktop/VBiO4_mp-23506_primitive.cif\")\n",
    "atoms = io.read(atoms_path)\n",
    "\n",
    "\n",
    "#  atoms = io.read(\n",
    "#      os.environ[\"repo_185b\"],\n",
    "#      \"bulk_structures/VBiO4_mp-23506_primitive.cif\",\n",
    "#      )"
   ]
  },
  {
   "cell_type": "code",
   "execution_count": 5,
   "metadata": {},
   "outputs": [
    {
     "data": {
      "text/plain": [
       "Atoms(symbols='V2Bi2O8', pbc=True, cell=[[6.9287296, 0.0, 0.0], [3.044440964812605, 6.224039932526706, 0.0], [-1.9323729423760707, 3.0963626773072073, 3.669519611042328]])"
      ]
     },
     "execution_count": 5,
     "metadata": {},
     "output_type": "execute_result"
    }
   ],
   "source": [
    "atoms"
   ]
  },
  {
   "cell_type": "code",
   "execution_count": 6,
   "metadata": {},
   "outputs": [
    {
     "name": "stdout",
     "output_type": "stream",
     "text": [
      "ORCI(a=5.17649, b=5.20258, c=11.7552)\n",
      "  Variant name: ORCI\n",
      "  Special point names: GLL1L2RSTWXX1YY1Z\n",
      "  Default path: GXLTWRX1ZGYSW,L1Y,Y1Z\n",
      "\n",
      "  Special point coordinates:\n",
      "    G   0.0000  0.0000  0.0000\n",
      "    L  -0.0974  0.0974  0.4995\n",
      "    L1  0.0974 -0.0974  0.5005\n",
      "    L2  0.4995  0.5005 -0.0974\n",
      "    R   0.0000  0.5000  0.0000\n",
      "    S   0.5000  0.0000  0.0000\n",
      "    T   0.0000  0.0000  0.5000\n",
      "    W   0.2500  0.2500  0.2500\n",
      "    X  -0.2985  0.2985  0.2985\n",
      "    X1  0.2985  0.7015 -0.2985\n",
      "    Y   0.2990 -0.2990  0.2990\n",
      "    Y1  0.7010  0.2990 -0.2990\n",
      "    Z   0.5000  0.5000 -0.5000\n",
      "\n"
     ]
    },
    {
     "data": {
      "text/plain": [
       "\u001b[0;31mSignature:\u001b[0m \u001b[0mlat\u001b[0m\u001b[0;34m.\u001b[0m\u001b[0mplot_bz\u001b[0m\u001b[0;34m(\u001b[0m\u001b[0mpath\u001b[0m\u001b[0;34m=\u001b[0m\u001b[0;32mNone\u001b[0m\u001b[0;34m,\u001b[0m \u001b[0mspecial_points\u001b[0m\u001b[0;34m=\u001b[0m\u001b[0;32mNone\u001b[0m\u001b[0;34m,\u001b[0m \u001b[0;34m**\u001b[0m\u001b[0mplotkwargs\u001b[0m\u001b[0;34m)\u001b[0m\u001b[0;34m\u001b[0m\u001b[0;34m\u001b[0m\u001b[0m\n",
       "\u001b[0;31mDocstring:\u001b[0m Plot the reciprocal cell and default bandpath.\n",
       "\u001b[0;31mFile:\u001b[0m      ~/anaconda3/lib/python3.7/site-packages/ase/lattice/__init__.py\n",
       "\u001b[0;31mType:\u001b[0m      method\n"
      ]
     },
     "metadata": {},
     "output_type": "display_data"
    }
   ],
   "source": [
    "lat = atoms.cell.get_bravais_lattice()\n",
    "\n",
    "print(lat.description())\n",
    "\n",
    "# lat.plot_bz(show=True)\n",
    "lat.plot_bz?"
   ]
  },
  {
   "cell_type": "code",
   "execution_count": 7,
   "metadata": {},
   "outputs": [],
   "source": [
    "BandPath = atoms.cell.bandpath(\n",
    "    path=\"GXLTWRX1ZGYSW,L1Y,Y1Z\",\n",
    "    npoints=200,\n",
    "    density=None,\n",
    "    special_points=None,\n",
    "    eps=0.0002,\n",
    "    pbc=True,\n",
    "    )\n",
    "\n",
    "\n",
    "path_list = []\n",
    "for i_cnt, char in enumerate(BandPath.path):\n",
    "    # Skip ',' character\n",
    "    if char == \",\":\n",
    "        continue\n",
    "\n",
    "    if char == \"1\":\n",
    "        path_list[-1] += \"1\"\n",
    "        continue\n",
    "\n",
    "    path_list.append(char)\n",
    "\n",
    "\n",
    "kpts = BandPath.kpts\n",
    "\n",
    "kpoints_plot = BandPath.get_linear_kpoint_axis()\n",
    "\n",
    "X = kpoints_plot[1]\n",
    "x = kpoints_plot[0]\n",
    "\n",
    "save_dict = dict(\n",
    "    kpts=kpts.tolist(),\n",
    "    X=X.tolist(),\n",
    "    x=x.tolist(),\n",
    "    pathlist=path_list,\n",
    "    )"
   ]
  },
  {
   "cell_type": "markdown",
   "metadata": {},
   "source": [
    "# Write data to json"
   ]
  },
  {
   "cell_type": "code",
   "execution_count": 8,
   "metadata": {},
   "outputs": [],
   "source": [
    "import json\n",
    "with open(\"bandpath.json\", \"w\") as outfile:  \n",
    "    json.dump(save_dict, outfile, indent=2)"
   ]
  },
  {
   "cell_type": "markdown",
   "metadata": {},
   "source": [
    "# Read json data"
   ]
  },
  {
   "cell_type": "code",
   "execution_count": 9,
   "metadata": {},
   "outputs": [],
   "source": [
    "# #######################################################################\n",
    "import json\n",
    "data_path = os.path.join(\n",
    "    os.environ[\"repo_185b\"],\n",
    "    \"workflow/band_path\",\n",
    "    \"bandpath.json\",\n",
    "    )\n",
    "with open(data_path, \"r\") as fle:\n",
    "    data = json.load(fle)\n",
    "    \n",
    "kpts = data[\"kpts\"]\n",
    "X = data[\"X\"]\n",
    "x = data[\"x\"]\n",
    "# #######################################################################"
   ]
  },
  {
   "cell_type": "raw",
   "metadata": {},
   "source": [
    "\n",
    "\n",
    "\n"
   ]
  },
  {
   "cell_type": "code",
   "execution_count": 10,
   "metadata": {
    "jupyter": {
     "source_hidden": true
    }
   },
   "outputs": [],
   "source": [
    "# kpts.tolist()\n",
    "# X.tolist()\n",
    "# x.tolist()"
   ]
  },
  {
   "cell_type": "code",
   "execution_count": 11,
   "metadata": {
    "jupyter": {
     "source_hidden": true
    }
   },
   "outputs": [],
   "source": [
    "# view(atoms)"
   ]
  },
  {
   "cell_type": "code",
   "execution_count": 12,
   "metadata": {
    "jupyter": {
     "source_hidden": true
    }
   },
   "outputs": [],
   "source": [
    "# repo_185b \n",
    "# /home/flores12/00_dropbox/01_norskov/00_git_repos/CHEMENG185B_DFT"
   ]
  },
  {
   "cell_type": "code",
   "execution_count": 13,
   "metadata": {
    "jupyter": {
     "source_hidden": true
    },
    "lines_to_next_cell": 0
   },
   "outputs": [],
   "source": [
    "# atoms.cell.get_bravais_lattice?"
   ]
  },
  {
   "cell_type": "code",
   "execution_count": null,
   "metadata": {
    "lines_to_next_cell": 2
   },
   "outputs": [],
   "source": []
  },
  {
   "cell_type": "code",
   "execution_count": 14,
   "metadata": {
    "jupyter": {
     "source_hidden": true
    }
   },
   "outputs": [],
   "source": [
    "# atoms.cell.bandpath(\n",
    "#     path=\"L\",\n",
    "#     npoints=None,\n",
    "#     density=None,\n",
    "#     special_points=None,\n",
    "#     eps=0.0002,\n",
    "#     pbc=True,\n",
    "#     )"
   ]
  },
  {
   "cell_type": "code",
   "execution_count": 15,
   "metadata": {
    "jupyter": {
     "source_hidden": true
    }
   },
   "outputs": [],
   "source": [
    "# path_list = []\n",
    "# for i_cnt, char in enumerate(BandPath.path):\n",
    "#     # Skip ',' character\n",
    "#     if char == \",\":\n",
    "#         continue\n",
    "\n",
    "#     if char == \"1\":\n",
    "#         path_list[-1] += \"1\"\n",
    "#         continue\n",
    "\n",
    "#     path_list.append(char)"
   ]
  },
  {
   "cell_type": "code",
   "execution_count": 16,
   "metadata": {
    "jupyter": {
     "source_hidden": true
    }
   },
   "outputs": [],
   "source": [
    "# \"G\",\n",
    "# \"X\",\n",
    "# \"L\",\n",
    "# \"T\",\n",
    "# \"W\",\n",
    "# \"R\",\n",
    "# \"X1\",\n",
    "# \"Z\",\n",
    "# \"G\",\n",
    "# \"Y\",\n",
    "# \"S\",\n",
    "# \"W\",\n",
    "# \"L1\",\n",
    "# \"Y\",\n",
    "# \"Y1\",\n",
    "# \"Z\","
   ]
  }
 ],
 "metadata": {
  "kernelspec": {
   "display_name": "Python [conda env:root] *",
   "language": "python",
   "name": "conda-root-py"
  },
  "language_info": {
   "codemirror_mode": {
    "name": "ipython",
    "version": 3
   },
   "file_extension": ".py",
   "mimetype": "text/x-python",
   "name": "python",
   "nbconvert_exporter": "python",
   "pygments_lexer": "ipython3",
   "version": "3.7.5"
  }
 },
 "nbformat": 4,
 "nbformat_minor": 4
}
